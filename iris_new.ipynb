{
 "cells": [
  {
   "cell_type": "code",
   "execution_count": 5,
   "metadata": {},
   "outputs": [
    {
     "ename": "NameError",
     "evalue": "name 'X' is not defined",
     "output_type": "error",
     "traceback": [
      "\u001b[1;31m---------------------------------------------------------------------------\u001b[0m",
      "\u001b[1;31mNameError\u001b[0m                                 Traceback (most recent call last)",
      "\u001b[1;32mcell_name\u001b[0m in \u001b[0;36masync-def-wrapper\u001b[1;34m()\u001b[0m\n",
      "\u001b[1;31mNameError\u001b[0m: name 'X' is not defined"
     ]
    }
   ],
   "source": [
    "import numpy as np \n",
    "from sklearn import datasets \n",
    "import seaborn.apionly as sns \n",
    "%matplotlib inline \n",
    "import matplotlib.pyplot as plt \n",
    "\n",
    "sns.set(style='whitegrid', context='notebook')\n",
    "\n",
    "iris2 = sns.load_dataset('iris')\n",
    "\n",
    "def covariance(X,Y): \n",
    "    xhat=np.mean(X) \n",
    "    yhat=np.mean(Y) \n",
    "    epsilon =0\n",
    "for x,y in zip(X,Y):\n",
    "    epsilon=epsilon+(x-xhat)*(y-yhat)\n",
    "\n",
    "    return epsilon/(len(X)-1)\n",
    "\n",
    "print(covariance([1,3,4],[1,0,2]))\n",
    "print(np.cov([1,3,4], [1,0,2]))"
   ]
  },
  {
   "cell_type": "code",
   "execution_count": null,
   "metadata": {},
   "outputs": [],
   "source": []
  },
  {
   "cell_type": "code",
   "execution_count": null,
   "metadata": {},
   "outputs": [],
   "source": []
  }
 ],
 "metadata": {
  "kernelspec": {
   "display_name": "Python 3",
   "language": "python",
   "name": "python3"
  },
  "language_info": {
   "codemirror_mode": {
    "name": "ipython",
    "version": 3
   },
   "file_extension": ".py",
   "mimetype": "text/x-python",
   "name": "python",
   "nbconvert_exporter": "python",
   "pygments_lexer": "ipython3",
   "version": "3.7.2"
  }
 },
 "nbformat": 4,
 "nbformat_minor": 2
}
